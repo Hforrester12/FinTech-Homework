{
 "cells": [
  {
   "cell_type": "code",
   "execution_count": 1,
   "metadata": {},
   "outputs": [
    {
     "ename": "ModuleNotFoundError",
     "evalue": "No module named 'yahoo_earnings_calendar'",
     "output_type": "error",
     "traceback": [
      "\u001b[0;31m---------------------------------------------------------------------------\u001b[0m",
      "\u001b[0;31mModuleNotFoundError\u001b[0m                       Traceback (most recent call last)",
      "\u001b[0;32m<ipython-input-1-bc09679223fe>\u001b[0m in \u001b[0;36m<module>\u001b[0;34m\u001b[0m\n\u001b[1;32m      2\u001b[0m \u001b[0;32mfrom\u001b[0m \u001b[0mdatetime\u001b[0m \u001b[0;32mimport\u001b[0m \u001b[0mdatetime\u001b[0m\u001b[0;34m\u001b[0m\u001b[0;34m\u001b[0m\u001b[0m\n\u001b[1;32m      3\u001b[0m \u001b[0;32mfrom\u001b[0m \u001b[0mdatetime\u001b[0m \u001b[0;32mimport\u001b[0m \u001b[0mtimedelta\u001b[0m\u001b[0;34m\u001b[0m\u001b[0;34m\u001b[0m\u001b[0m\n\u001b[0;32m----> 4\u001b[0;31m \u001b[0;32mfrom\u001b[0m \u001b[0myahoo_earnings_calendar\u001b[0m \u001b[0;32mimport\u001b[0m \u001b[0mYahooEarningsCalendar\u001b[0m\u001b[0;34m\u001b[0m\u001b[0;34m\u001b[0m\u001b[0m\n\u001b[0m\u001b[1;32m      5\u001b[0m \u001b[0;32mimport\u001b[0m \u001b[0mdateutil\u001b[0m\u001b[0;34m.\u001b[0m\u001b[0mparser\u001b[0m\u001b[0;34m\u001b[0m\u001b[0;34m\u001b[0m\u001b[0m\n\u001b[1;32m      6\u001b[0m \u001b[0myec\u001b[0m \u001b[0;34m=\u001b[0m \u001b[0mYahooEarningsCalendar\u001b[0m\u001b[0;34m(\u001b[0m\u001b[0;34m)\u001b[0m\u001b[0;34m\u001b[0m\u001b[0;34m\u001b[0m\u001b[0m\n",
      "\u001b[0;31mModuleNotFoundError\u001b[0m: No module named 'yahoo_earnings_calendar'"
     ]
    }
   ],
   "source": [
    "import pandas as pd\n",
    "from datetime import datetime\n",
    "from datetime import timedelta\n",
    "from yahoo_earnings_calendar import YahooEarningsCalendar\n",
    "import dateutil.parser\n",
    "yec = YahooEarningsCalendar()\n",
    "ts = yec.get_next_earnings_date('box')\n",
    "print(datetime.utcfromtimestamp(ts).strftime('%Y-%m-%d %H:%M:%S'))"
   ]
  },
  {
   "cell_type": "code",
   "execution_count": 27,
   "metadata": {},
   "outputs": [
    {
     "ename": "ModuleNotFoundError",
     "evalue": "No module named 'MCForecastTools'",
     "output_type": "error",
     "traceback": [
      "\u001b[0;31m---------------------------------------------------------------------------\u001b[0m",
      "\u001b[0;31mModuleNotFoundError\u001b[0m                       Traceback (most recent call last)",
      "\u001b[0;32m<ipython-input-27-8a67ae46fd87>\u001b[0m in \u001b[0;36m<module>\u001b[0;34m\u001b[0m\n\u001b[1;32m      5\u001b[0m \u001b[0;32mimport\u001b[0m \u001b[0mdatetime\u001b[0m \u001b[0;32mas\u001b[0m \u001b[0mdt\u001b[0m\u001b[0;34m\u001b[0m\u001b[0;34m\u001b[0m\u001b[0m\n\u001b[1;32m      6\u001b[0m \u001b[0;32mimport\u001b[0m \u001b[0mpytz\u001b[0m\u001b[0;34m\u001b[0m\u001b[0;34m\u001b[0m\u001b[0m\n\u001b[0;32m----> 7\u001b[0;31m \u001b[0;32mfrom\u001b[0m \u001b[0mMCForecastTools\u001b[0m \u001b[0;32mimport\u001b[0m \u001b[0mMCSimulation\u001b[0m\u001b[0;34m\u001b[0m\u001b[0;34m\u001b[0m\u001b[0m\n\u001b[0m",
      "\u001b[0;31mModuleNotFoundError\u001b[0m: No module named 'MCForecastTools'"
     ]
    }
   ],
   "source": [
    "import numpy as np\n",
    "import pandas as pd\n",
    "import os\n",
    "import alpaca_trade_api as tradeapi\n",
    "import datetime as dt\n",
    "import pytz\n",
    "from MCForecastTools import MCSimulation"
   ]
  },
  {
   "cell_type": "code",
   "execution_count": null,
   "metadata": {},
   "outputs": [],
   "source": [
    "from yahoo_fin import options\n",
    "from yahoo_fin import stock_info as si"
   ]
  },
  {
   "cell_type": "code",
   "execution_count": 14,
   "metadata": {},
   "outputs": [
    {
     "name": "stdout",
     "output_type": "stream",
     "text": [
      "fb:2021-01-27 00:00:00\n",
      "snap:2021-02-02 00:00:00\n"
     ]
    }
   ],
   "source": [
    "yec = YahooEarningsCalendar()\n",
    "ticker_list = [\"fb\",\"snap\"]\n",
    "for ticker in ticker_list:\n",
    "  x = yec.get_next_earnings_date(ticker)\n",
    "  print(ticker + \":\" + datetime.utcfromtimestamp(x).strftime('%Y-%m-%d %H:%M:%S'))"
   ]
  },
  {
   "cell_type": "code",
   "execution_count": 15,
   "metadata": {},
   "outputs": [],
   "source": [
    "aaplDates = options.get_expiration_dates(\"aapl\")"
   ]
  },
  {
   "cell_type": "code",
   "execution_count": 16,
   "metadata": {},
   "outputs": [
    {
     "data": {
      "text/plain": [
       "['December 11, 2020',\n",
       " 'December 18, 2020',\n",
       " 'December 24, 2020',\n",
       " 'December 31, 2020',\n",
       " 'January 8, 2021',\n",
       " 'January 15, 2021',\n",
       " 'January 22, 2021',\n",
       " 'February 19, 2021',\n",
       " 'March 19, 2021',\n",
       " 'April 16, 2021',\n",
       " 'June 18, 2021',\n",
       " 'July 16, 2021',\n",
       " 'September 17, 2021',\n",
       " 'January 21, 2022',\n",
       " 'June 17, 2022',\n",
       " 'September 16, 2022',\n",
       " 'January 20, 2023']"
      ]
     },
     "execution_count": 16,
     "metadata": {},
     "output_type": "execute_result"
    }
   ],
   "source": [
    "aaplDates"
   ]
  },
  {
   "cell_type": "code",
   "execution_count": 17,
   "metadata": {},
   "outputs": [
    {
     "data": {
      "text/html": [
       "<div>\n",
       "<style scoped>\n",
       "    .dataframe tbody tr th:only-of-type {\n",
       "        vertical-align: middle;\n",
       "    }\n",
       "\n",
       "    .dataframe tbody tr th {\n",
       "        vertical-align: top;\n",
       "    }\n",
       "\n",
       "    .dataframe thead th {\n",
       "        text-align: right;\n",
       "    }\n",
       "</style>\n",
       "<table border=\"1\" class=\"dataframe\">\n",
       "  <thead>\n",
       "    <tr style=\"text-align: right;\">\n",
       "      <th></th>\n",
       "      <th>Contract Name</th>\n",
       "      <th>Last Trade Date</th>\n",
       "      <th>Strike</th>\n",
       "      <th>Last Price</th>\n",
       "      <th>Bid</th>\n",
       "      <th>Ask</th>\n",
       "      <th>Change</th>\n",
       "      <th>% Change</th>\n",
       "      <th>Volume</th>\n",
       "      <th>Open Interest</th>\n",
       "      <th>Implied Volatility</th>\n",
       "    </tr>\n",
       "  </thead>\n",
       "  <tbody>\n",
       "    <tr>\n",
       "      <th>0</th>\n",
       "      <td>AAPL201211C00060000</td>\n",
       "      <td>2020-11-24 11:37AM EST</td>\n",
       "      <td>60.0</td>\n",
       "      <td>55.05</td>\n",
       "      <td>64.05</td>\n",
       "      <td>64.70</td>\n",
       "      <td>0.00</td>\n",
       "      <td>-</td>\n",
       "      <td>1</td>\n",
       "      <td>62</td>\n",
       "      <td>414.84%</td>\n",
       "    </tr>\n",
       "    <tr>\n",
       "      <th>1</th>\n",
       "      <td>AAPL201211C00065000</td>\n",
       "      <td>2020-11-24 9:49AM EST</td>\n",
       "      <td>65.0</td>\n",
       "      <td>47.95</td>\n",
       "      <td>59.05</td>\n",
       "      <td>59.70</td>\n",
       "      <td>0.00</td>\n",
       "      <td>-</td>\n",
       "      <td>1</td>\n",
       "      <td>2</td>\n",
       "      <td>373.83%</td>\n",
       "    </tr>\n",
       "    <tr>\n",
       "      <th>2</th>\n",
       "      <td>AAPL201211C00070000</td>\n",
       "      <td>2020-11-24 9:37AM EST</td>\n",
       "      <td>70.0</td>\n",
       "      <td>43.20</td>\n",
       "      <td>54.05</td>\n",
       "      <td>54.70</td>\n",
       "      <td>0.00</td>\n",
       "      <td>-</td>\n",
       "      <td>20</td>\n",
       "      <td>80</td>\n",
       "      <td>335.55%</td>\n",
       "    </tr>\n",
       "    <tr>\n",
       "      <th>3</th>\n",
       "      <td>AAPL201211C00075000</td>\n",
       "      <td>2020-12-04 9:57AM EST</td>\n",
       "      <td>75.0</td>\n",
       "      <td>46.87</td>\n",
       "      <td>49.05</td>\n",
       "      <td>49.70</td>\n",
       "      <td>0.00</td>\n",
       "      <td>-</td>\n",
       "      <td>4</td>\n",
       "      <td>24</td>\n",
       "      <td>300.00%</td>\n",
       "    </tr>\n",
       "    <tr>\n",
       "      <th>4</th>\n",
       "      <td>AAPL201211C00080000</td>\n",
       "      <td>2020-12-08 1:46PM EST</td>\n",
       "      <td>80.0</td>\n",
       "      <td>44.85</td>\n",
       "      <td>44.05</td>\n",
       "      <td>44.70</td>\n",
       "      <td>2.91</td>\n",
       "      <td>+6.94%</td>\n",
       "      <td>8</td>\n",
       "      <td>21</td>\n",
       "      <td>266.41%</td>\n",
       "    </tr>\n",
       "    <tr>\n",
       "      <th>...</th>\n",
       "      <td>...</td>\n",
       "      <td>...</td>\n",
       "      <td>...</td>\n",
       "      <td>...</td>\n",
       "      <td>...</td>\n",
       "      <td>...</td>\n",
       "      <td>...</td>\n",
       "      <td>...</td>\n",
       "      <td>...</td>\n",
       "      <td>...</td>\n",
       "      <td>...</td>\n",
       "    </tr>\n",
       "    <tr>\n",
       "      <th>61</th>\n",
       "      <td>AAPL201211C00155000</td>\n",
       "      <td>2020-12-08 9:30AM EST</td>\n",
       "      <td>155.0</td>\n",
       "      <td>0.01</td>\n",
       "      <td>0.00</td>\n",
       "      <td>0.01</td>\n",
       "      <td>0.00</td>\n",
       "      <td>-</td>\n",
       "      <td>1</td>\n",
       "      <td>1399</td>\n",
       "      <td>81.25%</td>\n",
       "    </tr>\n",
       "    <tr>\n",
       "      <th>62</th>\n",
       "      <td>AAPL201211C00160000</td>\n",
       "      <td>2020-12-08 9:30AM EST</td>\n",
       "      <td>160.0</td>\n",
       "      <td>0.01</td>\n",
       "      <td>0.00</td>\n",
       "      <td>0.01</td>\n",
       "      <td>0.00</td>\n",
       "      <td>-</td>\n",
       "      <td>1</td>\n",
       "      <td>2076</td>\n",
       "      <td>93.75%</td>\n",
       "    </tr>\n",
       "    <tr>\n",
       "      <th>63</th>\n",
       "      <td>AAPL201211C00165000</td>\n",
       "      <td>2020-12-07 11:34AM EST</td>\n",
       "      <td>165.0</td>\n",
       "      <td>0.01</td>\n",
       "      <td>0.00</td>\n",
       "      <td>0.01</td>\n",
       "      <td>0.00</td>\n",
       "      <td>-</td>\n",
       "      <td>122</td>\n",
       "      <td>1393</td>\n",
       "      <td>103.13%</td>\n",
       "    </tr>\n",
       "    <tr>\n",
       "      <th>64</th>\n",
       "      <td>AAPL201211C00170000</td>\n",
       "      <td>2020-12-08 10:15AM EST</td>\n",
       "      <td>170.0</td>\n",
       "      <td>0.01</td>\n",
       "      <td>0.00</td>\n",
       "      <td>0.01</td>\n",
       "      <td>0.00</td>\n",
       "      <td>-</td>\n",
       "      <td>1</td>\n",
       "      <td>126</td>\n",
       "      <td>112.50%</td>\n",
       "    </tr>\n",
       "    <tr>\n",
       "      <th>65</th>\n",
       "      <td>AAPL201211C00175000</td>\n",
       "      <td>2020-12-08 10:51AM EST</td>\n",
       "      <td>175.0</td>\n",
       "      <td>0.01</td>\n",
       "      <td>0.00</td>\n",
       "      <td>0.01</td>\n",
       "      <td>0.00</td>\n",
       "      <td>-</td>\n",
       "      <td>14</td>\n",
       "      <td>1055</td>\n",
       "      <td>121.88%</td>\n",
       "    </tr>\n",
       "  </tbody>\n",
       "</table>\n",
       "<p>66 rows × 11 columns</p>\n",
       "</div>"
      ],
      "text/plain": [
       "          Contract Name         Last Trade Date  Strike  Last Price    Bid  \\\n",
       "0   AAPL201211C00060000  2020-11-24 11:37AM EST    60.0       55.05  64.05   \n",
       "1   AAPL201211C00065000   2020-11-24 9:49AM EST    65.0       47.95  59.05   \n",
       "2   AAPL201211C00070000   2020-11-24 9:37AM EST    70.0       43.20  54.05   \n",
       "3   AAPL201211C00075000   2020-12-04 9:57AM EST    75.0       46.87  49.05   \n",
       "4   AAPL201211C00080000   2020-12-08 1:46PM EST    80.0       44.85  44.05   \n",
       "..                  ...                     ...     ...         ...    ...   \n",
       "61  AAPL201211C00155000   2020-12-08 9:30AM EST   155.0        0.01   0.00   \n",
       "62  AAPL201211C00160000   2020-12-08 9:30AM EST   160.0        0.01   0.00   \n",
       "63  AAPL201211C00165000  2020-12-07 11:34AM EST   165.0        0.01   0.00   \n",
       "64  AAPL201211C00170000  2020-12-08 10:15AM EST   170.0        0.01   0.00   \n",
       "65  AAPL201211C00175000  2020-12-08 10:51AM EST   175.0        0.01   0.00   \n",
       "\n",
       "      Ask  Change % Change  Volume  Open Interest Implied Volatility  \n",
       "0   64.70    0.00        -       1             62            414.84%  \n",
       "1   59.70    0.00        -       1              2            373.83%  \n",
       "2   54.70    0.00        -      20             80            335.55%  \n",
       "3   49.70    0.00        -       4             24            300.00%  \n",
       "4   44.70    2.91   +6.94%       8             21            266.41%  \n",
       "..    ...     ...      ...     ...            ...                ...  \n",
       "61   0.01    0.00        -       1           1399             81.25%  \n",
       "62   0.01    0.00        -       1           2076             93.75%  \n",
       "63   0.01    0.00        -     122           1393            103.13%  \n",
       "64   0.01    0.00        -       1            126            112.50%  \n",
       "65   0.01    0.00        -      14           1055            121.88%  \n",
       "\n",
       "[66 rows x 11 columns]"
      ]
     },
     "execution_count": 17,
     "metadata": {},
     "output_type": "execute_result"
    }
   ],
   "source": [
    "callAapl=options.get_calls(\"aapl\")\n",
    "callAapl"
   ]
  },
  {
   "cell_type": "code",
   "execution_count": 18,
   "metadata": {},
   "outputs": [
    {
     "ename": "ModuleNotFoundError",
     "evalue": "No module named 'MCForecastTools'",
     "output_type": "error",
     "traceback": [
      "\u001b[0;31m---------------------------------------------------------------------------\u001b[0m",
      "\u001b[0;31mModuleNotFoundError\u001b[0m                       Traceback (most recent call last)",
      "\u001b[0;32m<ipython-input-18-abccc73dd13a>\u001b[0m in \u001b[0;36m<module>\u001b[0;34m\u001b[0m\n\u001b[0;32m----> 1\u001b[0;31m \u001b[0;32mfrom\u001b[0m \u001b[0mMCForecastTools\u001b[0m \u001b[0;32mimport\u001b[0m \u001b[0mMCSimulation\u001b[0m\u001b[0;34m\u001b[0m\u001b[0;34m\u001b[0m\u001b[0m\n\u001b[0m\u001b[1;32m      2\u001b[0m \u001b[0mAAPL_CHANGE\u001b[0m \u001b[0;34m=\u001b[0m \u001b[0mcallAapl\u001b[0m\u001b[0;34m[\u001b[0m\u001b[0;34m'Change'\u001b[0m\u001b[0;34m]\u001b[0m\u001b[0;34m\u001b[0m\u001b[0;34m\u001b[0m\u001b[0m\n",
      "\u001b[0;31mModuleNotFoundError\u001b[0m: No module named 'MCForecastTools'"
     ]
    }
   ],
   "source": [
    "\n",
    "AAPL_CHANGE = callAapl['Change']"
   ]
  },
  {
   "cell_type": "code",
   "execution_count": 9,
   "metadata": {},
   "outputs": [
    {
     "ename": "NameError",
     "evalue": "name 'MCSimulation' is not defined",
     "output_type": "error",
     "traceback": [
      "\u001b[0;31m---------------------------------------------------------------------------\u001b[0m",
      "\u001b[0;31mNameError\u001b[0m                                 Traceback (most recent call last)",
      "\u001b[0;32m<ipython-input-9-acb7f1a6f9d0>\u001b[0m in \u001b[0;36m<module>\u001b[0;34m\u001b[0m\n\u001b[0;32m----> 1\u001b[0;31m MC_fiveyear = MCSimulation(\n\u001b[0m\u001b[1;32m      2\u001b[0m     \u001b[0mportfolio_data\u001b[0m \u001b[0;34m=\u001b[0m \u001b[0mAAPL_CHANGE\u001b[0m\u001b[0;34m,\u001b[0m\u001b[0;34m\u001b[0m\u001b[0;34m\u001b[0m\u001b[0m\n\u001b[1;32m      3\u001b[0m     \u001b[0mweights\u001b[0m \u001b[0;34m=\u001b[0m \u001b[0;34m[\u001b[0m\u001b[0;36m.50\u001b[0m\u001b[0;34m,\u001b[0m\u001b[0;36m.50\u001b[0m\u001b[0;34m]\u001b[0m\u001b[0;34m,\u001b[0m\u001b[0;34m\u001b[0m\u001b[0;34m\u001b[0m\u001b[0m\n\u001b[1;32m      4\u001b[0m     \u001b[0mnum_simulation\u001b[0m \u001b[0;34m=\u001b[0m \u001b[0;36m500\u001b[0m\u001b[0;34m,\u001b[0m\u001b[0;34m\u001b[0m\u001b[0;34m\u001b[0m\u001b[0m\n\u001b[1;32m      5\u001b[0m     num_trading_days = 252*5)\n",
      "\u001b[0;31mNameError\u001b[0m: name 'MCSimulation' is not defined"
     ]
    }
   ],
   "source": [
    "MC_fiveyear = MCSimulation(\n",
    "    portfolio_data = AAPL_CHANGE,\n",
    "    weights = [.50,.50],\n",
    "    num_simulation = 500,\n",
    "    num_trading_days = 252*5)"
   ]
  },
  {
   "cell_type": "code",
   "execution_count": null,
   "metadata": {},
   "outputs": [],
   "source": []
  }
 ],
 "metadata": {
  "kernelspec": {
   "display_name": "Python 3",
   "language": "python",
   "name": "python3"
  },
  "language_info": {
   "codemirror_mode": {
    "name": "ipython",
    "version": 3
   },
   "file_extension": ".py",
   "mimetype": "text/x-python",
   "name": "python",
   "nbconvert_exporter": "python",
   "pygments_lexer": "ipython3",
   "version": "3.8.5"
  }
 },
 "nbformat": 4,
 "nbformat_minor": 4
}
