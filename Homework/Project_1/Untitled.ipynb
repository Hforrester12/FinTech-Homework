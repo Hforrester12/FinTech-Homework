{
 "cells": [
  {
   "cell_type": "code",
   "execution_count": 1,
   "metadata": {},
   "outputs": [
    {
     "name": "stdout",
     "output_type": "stream",
     "text": [
      "fb:2021-01-27 00:00:00\n",
      "snap:2021-02-02 00:00:00\n"
     ]
    }
   ],
   "source": [
    "import pandas as pd\n",
    "from datetime import datetime\n",
    "from datetime import timedelta\n",
    "from yahoo_earnings_calendar import YahooEarningsCalendar\n",
    "import dateutil.parser\n",
    "yec = YahooEarningsCalendar()\n",
    "ticker_list = [\"fb\",\"snap\"]\n",
    "for ticker in ticker_list:\n",
    "  x = yec.get_next_earnings_date(ticker)\n",
    "  print(ticker + \":\" + datetime.utcfromtimestamp(x).strftime('%Y-%m-%d %H:%M:%S'))"
   ]
  },
  {
   "cell_type": "code",
   "execution_count": 2,
   "metadata": {},
   "outputs": [],
   "source": [
    "import yahoo_earnings_calendar"
   ]
  },
  {
   "cell_type": "code",
   "execution_count": 3,
   "metadata": {},
   "outputs": [],
   "source": [
    "from yahoo_fin import options\n",
    "from yahoo_fin import stock_info as si"
   ]
  },
  {
   "cell_type": "code",
   "execution_count": 4,
   "metadata": {},
   "outputs": [],
   "source": [
    "aaplDates = options.get_expiration_dates(\"aapl\")"
   ]
  },
  {
   "cell_type": "code",
   "execution_count": 5,
   "metadata": {},
   "outputs": [
    {
     "data": {
      "text/plain": [
       "['December 11, 2020',\n",
       " 'December 18, 2020',\n",
       " 'December 24, 2020',\n",
       " 'December 31, 2020',\n",
       " 'January 8, 2021',\n",
       " 'January 15, 2021',\n",
       " 'January 22, 2021',\n",
       " 'February 19, 2021',\n",
       " 'March 19, 2021',\n",
       " 'April 16, 2021',\n",
       " 'June 18, 2021',\n",
       " 'July 16, 2021',\n",
       " 'September 17, 2021',\n",
       " 'January 21, 2022',\n",
       " 'June 17, 2022',\n",
       " 'September 16, 2022',\n",
       " 'January 20, 2023']"
      ]
     },
     "execution_count": 5,
     "metadata": {},
     "output_type": "execute_result"
    }
   ],
   "source": [
    "aaplDates"
   ]
  },
  {
   "cell_type": "code",
   "execution_count": null,
   "metadata": {},
   "outputs": [],
   "source": []
  }
 ],
 "metadata": {
  "kernelspec": {
   "display_name": "Python 3",
   "language": "python",
   "name": "python3"
  },
  "language_info": {
   "codemirror_mode": {
    "name": "ipython",
    "version": 3
   },
   "file_extension": ".py",
   "mimetype": "text/x-python",
   "name": "python",
   "nbconvert_exporter": "python",
   "pygments_lexer": "ipython3",
   "version": "3.8.5"
  }
 },
 "nbformat": 4,
 "nbformat_minor": 4
}
