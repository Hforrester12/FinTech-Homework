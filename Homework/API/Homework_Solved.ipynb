{
 "cells": [
  {
   "cell_type": "markdown",
   "metadata": {},
   "source": [
    "# Financial Planning Activity"
   ]
  },
  {
   "cell_type": "code",
   "execution_count": 3,
   "metadata": {},
   "outputs": [],
   "source": [
    "import os\n",
    "import requests\n",
    "import pandas as pd\n",
    "from dotenv import load_dotenv\n",
    "import alpaca_trade_api as tradeapi\n",
    "from MCForecastTools import MCSimulation\n",
    "%matplotlib inline"
   ]
  },
  {
   "cell_type": "code",
   "execution_count": 4,
   "metadata": {},
   "outputs": [
    {
     "data": {
      "text/plain": [
       "True"
      ]
     },
     "execution_count": 4,
     "metadata": {},
     "output_type": "execute_result"
    }
   ],
   "source": [
    "#load env\n",
    "load_dotenv()"
   ]
  },
  {
   "cell_type": "markdown",
   "metadata": {},
   "source": [
    "### Create a pie chart for our liquid assets"
   ]
  },
  {
   "cell_type": "code",
   "execution_count": 5,
   "metadata": {},
   "outputs": [],
   "source": [
    "# Assumption: we our crypto coins: litecoin and tezos\n",
    "my_lc = 100\n",
    "my_tz = 500"
   ]
  },
  {
   "cell_type": "code",
   "execution_count": 6,
   "metadata": {},
   "outputs": [],
   "source": [
    "# Crypto APIs\n",
    "lc_url = \"https://api.alternative.me/v2/ticker/Litecoin/?convert=USD\"\n",
    "tz_url = \"https://api.alternative.me/v2/ticker/Tezos/?convert=USD\""
   ]
  },
  {
   "cell_type": "code",
   "execution_count": 7,
   "metadata": {},
   "outputs": [
    {
     "name": "stdout",
     "output_type": "stream",
     "text": [
      "My Litecoin balance is $8504.0\n",
      "My Tezos balance is $1150.0\n"
     ]
    }
   ],
   "source": [
    "#get prices\n",
    "lc_reponse = requests.get(lc_url).json()\n",
    "lc_price = lc_reponse['data']['2']['quotes']['USD']['price']\n",
    "\n",
    "tz_reponse = requests.get(tz_url).json()\n",
    "tz_price = tz_reponse['data']['2011']['quotes']['USD']['price']\n",
    "\n",
    "#get currnet value of \"my cryptos\"\n",
    "my_lc_value = my_lc * lc_price\n",
    "my_tz_value = my_tz * tz_price\n",
    "\n",
    "#Print output on crypto wallet\n",
    "print(f\"My Litecoin balance is ${my_lc_value}\")\n",
    "print(f\"My Tezos balance is ${my_tz_value}\")"
   ]
  },
  {
   "cell_type": "code",
   "execution_count": 8,
   "metadata": {},
   "outputs": [],
   "source": [
    "# Assumption: our stocks, AMAT and ORCL\n",
    "my_ORCL = 100\n",
    "my_AMAT = 100"
   ]
  },
  {
   "cell_type": "code",
   "execution_count": 9,
   "metadata": {},
   "outputs": [],
   "source": [
    "# Set Alpaca API key and secret\n",
    "#alpaca_api_key = \"PKC15QNA0N6V3XUMQKFD\"\n",
    "#alpaca_secret_key = \"m3LroXDXJLmVTvjVXzM0yEfk4d2x9y99qIFlaUF7\"\n",
    "\n",
    "#alpaca_api_key = str(alpaca_api_key) \n",
    "#alpaca_secret_key = str(alpaca_secret_key)\n",
    "# Create the Alpaca API object\n",
    "\n",
    "#alpaca = tradeapi.REST(\n",
    "   # alpaca_api_key,\n",
    "   # alpaca_secret_key,\n",
    "   # api_version=\"v2\")"
   ]
  },
  {
   "cell_type": "code",
   "execution_count": 10,
   "metadata": {},
   "outputs": [],
   "source": [
    "# Set Alpaca API key and secret\n",
    "alpaca_api_key = os.getenv(\"ALPACA_API_KEY\")\n",
    "alpaca_secret_key = os.getenv(\"ALPACA_SECRET_KEY\")\n",
    "\n",
    "alpaca_api_key = str(alpaca_api_key) \n",
    "alpaca_secret_key = str(alpaca_secret_key)\n",
    "# Create the Alpaca API object\n",
    "\n",
    "alpaca = tradeapi.REST(\n",
    "    alpaca_api_key,\n",
    "    alpaca_secret_key,\n",
    "    api_version=\"v2\")\n"
   ]
  },
  {
   "cell_type": "code",
   "execution_count": 11,
   "metadata": {},
   "outputs": [
    {
     "data": {
      "text/plain": [
       "'PKC15QNA0N6V3XUMQKFD'"
      ]
     },
     "execution_count": 11,
     "metadata": {},
     "output_type": "execute_result"
    }
   ],
   "source": [
    "alpaca_api_key"
   ]
  },
  {
   "cell_type": "code",
   "execution_count": 12,
   "metadata": {},
   "outputs": [
    {
     "data": {
      "text/plain": [
       "'m3LroXDXJLmVTvjVXzM0yEfk4d2x9y99qIFlaUF7'"
      ]
     },
     "execution_count": 12,
     "metadata": {},
     "output_type": "execute_result"
    }
   ],
   "source": [
    "alpaca_secret_key"
   ]
  },
  {
   "cell_type": "code",
   "execution_count": 21,
   "metadata": {},
   "outputs": [
    {
     "data": {
      "text/html": [
       "<div>\n",
       "<style scoped>\n",
       "    .dataframe tbody tr th:only-of-type {\n",
       "        vertical-align: middle;\n",
       "    }\n",
       "\n",
       "    .dataframe tbody tr th {\n",
       "        vertical-align: top;\n",
       "    }\n",
       "\n",
       "    .dataframe thead tr th {\n",
       "        text-align: left;\n",
       "    }\n",
       "</style>\n",
       "<table border=\"1\" class=\"dataframe\">\n",
       "  <thead>\n",
       "    <tr>\n",
       "      <th></th>\n",
       "      <th colspan=\"5\" halign=\"left\">AMAT</th>\n",
       "      <th colspan=\"5\" halign=\"left\">ORCL</th>\n",
       "    </tr>\n",
       "    <tr>\n",
       "      <th></th>\n",
       "      <th>open</th>\n",
       "      <th>high</th>\n",
       "      <th>low</th>\n",
       "      <th>close</th>\n",
       "      <th>volume</th>\n",
       "      <th>open</th>\n",
       "      <th>high</th>\n",
       "      <th>low</th>\n",
       "      <th>close</th>\n",
       "      <th>volume</th>\n",
       "    </tr>\n",
       "  </thead>\n",
       "  <tbody>\n",
       "    <tr>\n",
       "      <th>2020-11-20 00:00:00-05:00</th>\n",
       "      <td>77.2</td>\n",
       "      <td>78.57</td>\n",
       "      <td>76.68</td>\n",
       "      <td>76.72</td>\n",
       "      <td>6733058</td>\n",
       "      <td>56.36</td>\n",
       "      <td>56.44</td>\n",
       "      <td>55.68</td>\n",
       "      <td>55.7</td>\n",
       "      <td>13763956</td>\n",
       "    </tr>\n",
       "  </tbody>\n",
       "</table>\n",
       "</div>"
      ],
      "text/plain": [
       "                           AMAT                                 ORCL         \\\n",
       "                           open   high    low  close   volume   open   high   \n",
       "2020-11-20 00:00:00-05:00  77.2  78.57  76.68  76.72  6733058  56.36  56.44   \n",
       "\n",
       "                                                  \n",
       "                             low close    volume  \n",
       "2020-11-20 00:00:00-05:00  55.68  55.7  13763956  "
      ]
     },
     "execution_count": 21,
     "metadata": {},
     "output_type": "execute_result"
    }
   ],
   "source": [
    "from datetime import datetime\n",
    "startdate = datetime.fromisoformat('2020-11-20')\n",
    "\n",
    "#iso foramt\n",
    "today = pd.Timestamp(startdate, tz=\"America/New_York\").isoformat()\n",
    "\n",
    "#set tickers\n",
    "tickers = ['ORCL','AMAT']\n",
    "\n",
    "#timeframe\n",
    "timeframe = '1D'\n",
    "\n",
    "#get closing prices\n",
    "df_investments = alpaca.get_barset(tickers, timeframe, start = today).df\n",
    "\n",
    "#take a peek\n",
    "df_investments.head()"
   ]
  },
  {
   "cell_type": "code",
   "execution_count": 22,
   "metadata": {},
   "outputs": [
    {
     "name": "stdout",
     "output_type": "stream",
     "text": [
      "Current price ORCL 55.7\n",
      "Current price AMAT 76.72\n"
     ]
    }
   ],
   "source": [
    "#Getting closing prices\n",
    "ORCL_close_price = round(df_investments[tickers[0]]['close'][0],2)\n",
    "AMAT_close_price = round(df_investments[tickers[1]]['close'][0],2)\n",
    "\n",
    "print(\"Current price ORCL\",ORCL_close_price)\n",
    "print(\"Current price AMAT\",AMAT_close_price)"
   ]
  },
  {
   "cell_type": "code",
   "execution_count": 23,
   "metadata": {},
   "outputs": [
    {
     "name": "stdout",
     "output_type": "stream",
     "text": [
      "My ORCL $5570.0\n",
      "My AMAT $7672.0\n"
     ]
    }
   ],
   "source": [
    "#computing total value of stocks\n",
    "my_ORCL_value = my_ORCL * ORCL_close_price\n",
    "my_AMAT_value = my_AMAT * AMAT_close_price\n",
    "\n",
    "#Print output on stocks\n",
    "print(f\"My ORCL ${my_ORCL_value}\")\n",
    "print(f\"My AMAT ${my_AMAT_value}\")"
   ]
  },
  {
   "cell_type": "markdown",
   "metadata": {},
   "source": [
    "## Pie chart for saving analysis"
   ]
  },
  {
   "cell_type": "code",
   "execution_count": 24,
   "metadata": {},
   "outputs": [
    {
     "data": {
      "text/html": [
       "<div>\n",
       "<style scoped>\n",
       "    .dataframe tbody tr th:only-of-type {\n",
       "        vertical-align: middle;\n",
       "    }\n",
       "\n",
       "    .dataframe tbody tr th {\n",
       "        vertical-align: top;\n",
       "    }\n",
       "\n",
       "    .dataframe thead th {\n",
       "        text-align: right;\n",
       "    }\n",
       "</style>\n",
       "<table border=\"1\" class=\"dataframe\">\n",
       "  <thead>\n",
       "    <tr style=\"text-align: right;\">\n",
       "      <th></th>\n",
       "      <th>amount</th>\n",
       "    </tr>\n",
       "  </thead>\n",
       "  <tbody>\n",
       "    <tr>\n",
       "      <th>crypto</th>\n",
       "      <td>9654.0</td>\n",
       "    </tr>\n",
       "    <tr>\n",
       "      <th>shares</th>\n",
       "      <td>13242.0</td>\n",
       "    </tr>\n",
       "  </tbody>\n",
       "</table>\n",
       "</div>"
      ],
      "text/plain": [
       "         amount\n",
       "crypto   9654.0\n",
       "shares  13242.0"
      ]
     },
     "execution_count": 24,
     "metadata": {},
     "output_type": "execute_result"
    }
   ],
   "source": [
    "#household income\n",
    "monthly_income = 60000\n",
    "\n",
    "#put assets into a list\n",
    "savings_data = [\n",
    "    my_lc_value+my_tz_value,\n",
    "    my_ORCL_value+my_AMAT_value\n",
    "]\n",
    "\n",
    "#Create savings dataframe\n",
    "df_savings = pd.DataFrame(savings_data, columns=['amount'],index=['crypto','shares'])\n",
    "\n",
    "df_savings"
   ]
  },
  {
   "cell_type": "code",
   "execution_count": 25,
   "metadata": {},
   "outputs": [
    {
     "data": {
      "text/plain": [
       "<matplotlib.axes._subplots.AxesSubplot at 0x7ffe1176d4d0>"
      ]
     },
     "execution_count": 25,
     "metadata": {},
     "output_type": "execute_result"
    },
    {
     "data": {
      "image/png": "[encoded data removed]",
      "text/plain": [
       "<Figure size 432x288 with 1 Axes>"
      ]
     },
     "metadata": {},
     "output_type": "display_data"
    }
   ],
   "source": [
    "#pie chart viewing for % of savings\n",
    "df_savings.plot.pie(y='amount',title='Personal Savings')"
   ]
  },
  {
   "cell_type": "code",
   "execution_count": 26,
   "metadata": {},
   "outputs": [
    {
     "name": "stdout",
     "output_type": "stream",
     "text": [
      "You're responsible!\n"
     ]
    }
   ],
   "source": [
    "#Emergency fund\n",
    "emergency_fund = monthly_income/12 * 3\n",
    "\n",
    "#calcuate savings\n",
    "total_savings = float(df_savings.sum())\n",
    "\n",
    "#check we have enough savings\n",
    "if total_savings > emergency_fund:\n",
    "    print(\"You're responsible!\")\n",
    "elif total_savings == emergency_fund:\n",
    "    print(\"You have exactly 3 months saved up\")\n",
    "else:\n",
    "    print(\"You need \"+str(emergency_fund-total_savings)+\" to save more!\")"
   ]
  },
  {
   "cell_type": "markdown",
   "metadata": {},
   "source": [
    "### Simulations for retirement"
   ]
  },
  {
   "cell_type": "code",
   "execution_count": 27,
   "metadata": {},
   "outputs": [],
   "source": [
    "#set start and end date for API data\n",
    "start_date = pd.Timestamp('2017-11-17', tz=\"America/New_York\").isoformat()\n",
    "end_date = pd.Timestamp('2020-11-17', tz=\"America/New_York\").isoformat()"
   ]
  },
  {
   "cell_type": "code",
   "execution_count": 28,
   "metadata": {},
   "outputs": [
    {
     "data": {
      "text/html": [
       "<div>\n",
       "<style scoped>\n",
       "    .dataframe tbody tr th:only-of-type {\n",
       "        vertical-align: middle;\n",
       "    }\n",
       "\n",
       "    .dataframe tbody tr th {\n",
       "        vertical-align: top;\n",
       "    }\n",
       "\n",
       "    .dataframe thead tr th {\n",
       "        text-align: left;\n",
       "    }\n",
       "</style>\n",
       "<table border=\"1\" class=\"dataframe\">\n",
       "  <thead>\n",
       "    <tr>\n",
       "      <th></th>\n",
       "      <th colspan=\"5\" halign=\"left\">AMAT</th>\n",
       "      <th colspan=\"5\" halign=\"left\">ORCL</th>\n",
       "    </tr>\n",
       "    <tr>\n",
       "      <th></th>\n",
       "      <th>open</th>\n",
       "      <th>high</th>\n",
       "      <th>low</th>\n",
       "      <th>close</th>\n",
       "      <th>volume</th>\n",
       "      <th>open</th>\n",
       "      <th>high</th>\n",
       "      <th>low</th>\n",
       "      <th>close</th>\n",
       "      <th>volume</th>\n",
       "    </tr>\n",
       "  </thead>\n",
       "  <tbody>\n",
       "    <tr>\n",
       "      <th>2017-11-17 00:00:00-05:00</th>\n",
       "      <td>60.46</td>\n",
       "      <td>60.8900</td>\n",
       "      <td>56.085</td>\n",
       "      <td>56.480</td>\n",
       "      <td>24615267</td>\n",
       "      <td>49.00</td>\n",
       "      <td>49.23</td>\n",
       "      <td>48.85</td>\n",
       "      <td>48.930</td>\n",
       "      <td>7183726</td>\n",
       "    </tr>\n",
       "    <tr>\n",
       "      <th>2017-11-20 00:00:00-05:00</th>\n",
       "      <td>56.66</td>\n",
       "      <td>58.2199</td>\n",
       "      <td>56.660</td>\n",
       "      <td>57.615</td>\n",
       "      <td>11672628</td>\n",
       "      <td>49.04</td>\n",
       "      <td>49.16</td>\n",
       "      <td>48.92</td>\n",
       "      <td>49.020</td>\n",
       "      <td>9863689</td>\n",
       "    </tr>\n",
       "    <tr>\n",
       "      <th>2017-11-21 00:00:00-05:00</th>\n",
       "      <td>58.00</td>\n",
       "      <td>58.8600</td>\n",
       "      <td>58.000</td>\n",
       "      <td>58.800</td>\n",
       "      <td>8384406</td>\n",
       "      <td>49.00</td>\n",
       "      <td>49.10</td>\n",
       "      <td>48.50</td>\n",
       "      <td>48.625</td>\n",
       "      <td>14837610</td>\n",
       "    </tr>\n",
       "    <tr>\n",
       "      <th>2017-11-22 00:00:00-05:00</th>\n",
       "      <td>58.94</td>\n",
       "      <td>59.0000</td>\n",
       "      <td>57.500</td>\n",
       "      <td>57.680</td>\n",
       "      <td>6323003</td>\n",
       "      <td>48.56</td>\n",
       "      <td>48.83</td>\n",
       "      <td>48.42</td>\n",
       "      <td>48.580</td>\n",
       "      <td>8558419</td>\n",
       "    </tr>\n",
       "    <tr>\n",
       "      <th>2017-11-24 00:00:00-05:00</th>\n",
       "      <td>57.85</td>\n",
       "      <td>58.1300</td>\n",
       "      <td>57.670</td>\n",
       "      <td>57.910</td>\n",
       "      <td>3047529</td>\n",
       "      <td>48.88</td>\n",
       "      <td>49.13</td>\n",
       "      <td>48.69</td>\n",
       "      <td>49.005</td>\n",
       "      <td>4717850</td>\n",
       "    </tr>\n",
       "  </tbody>\n",
       "</table>\n",
       "</div>"
      ],
      "text/plain": [
       "                            AMAT                                      ORCL  \\\n",
       "                            open     high     low   close    volume   open   \n",
       "2017-11-17 00:00:00-05:00  60.46  60.8900  56.085  56.480  24615267  49.00   \n",
       "2017-11-20 00:00:00-05:00  56.66  58.2199  56.660  57.615  11672628  49.04   \n",
       "2017-11-21 00:00:00-05:00  58.00  58.8600  58.000  58.800   8384406  49.00   \n",
       "2017-11-22 00:00:00-05:00  58.94  59.0000  57.500  57.680   6323003  48.56   \n",
       "2017-11-24 00:00:00-05:00  57.85  58.1300  57.670  57.910   3047529  48.88   \n",
       "\n",
       "                                                           \n",
       "                            high    low   close    volume  \n",
       "2017-11-17 00:00:00-05:00  49.23  48.85  48.930   7183726  \n",
       "2017-11-20 00:00:00-05:00  49.16  48.92  49.020   9863689  \n",
       "2017-11-21 00:00:00-05:00  49.10  48.50  48.625  14837610  \n",
       "2017-11-22 00:00:00-05:00  48.83  48.42  48.580   8558419  \n",
       "2017-11-24 00:00:00-05:00  49.13  48.69  49.005   4717850  "
      ]
     },
     "execution_count": 28,
     "metadata": {},
     "output_type": "execute_result"
    }
   ],
   "source": [
    "#get closing prices\n",
    "df_stock_data = alpaca.get_barset(\n",
    "    tickers, \n",
    "    timeframe, \n",
    "    start = start_date,\n",
    "    end = end_date\n",
    ").df\n",
    "\n",
    "df_stock_data.head()"
   ]
  },
  {
   "cell_type": "code",
   "execution_count": 29,
   "metadata": {},
   "outputs": [],
   "source": [
    "#Apply MC Sim for 30 years\n",
    "MC_thirty_year = MCSimulation(\n",
    "    portfolio_data = df_stock_data,\n",
    "    weights = [.5,.5],\n",
    "    num_simulation = 100,\n",
    "    num_trading_days = 252*30\n",
    ")"
   ]
  },
  {
   "cell_type": "code",
   "execution_count": 41,
   "metadata": {},
   "outputs": [
    {
     "name": "stdout",
     "output_type": "stream",
     "text": [
      "Running Monte Carlo simulation number 0.\n",
      "Running Monte Carlo simulation number 10.\n",
      "Running Monte Carlo simulation number 20.\n",
      "Running Monte Carlo simulation number 30.\n",
      "Running Monte Carlo simulation number 40.\n",
      "Running Monte Carlo simulation number 50.\n",
      "Running Monte Carlo simulation number 60.\n",
      "Running Monte Carlo simulation number 70.\n",
      "Running Monte Carlo simulation number 80.\n",
      "Running Monte Carlo simulation number 90.\n"
     ]
    },
    {
     "data": {
      "text/html": [
       "<div>\n",
       "<style scoped>\n",
       "    .dataframe tbody tr th:only-of-type {\n",
       "        vertical-align: middle;\n",
       "    }\n",
       "\n",
       "    .dataframe tbody tr th {\n",
       "        vertical-align: top;\n",
       "    }\n",
       "\n",
       "    .dataframe thead th {\n",
       "        text-align: right;\n",
       "    }\n",
       "</style>\n",
       "<table border=\"1\" class=\"dataframe\">\n",
       "  <thead>\n",
       "    <tr style=\"text-align: right;\">\n",
       "      <th></th>\n",
       "      <th>0</th>\n",
       "      <th>1</th>\n",
       "      <th>2</th>\n",
       "      <th>3</th>\n",
       "      <th>4</th>\n",
       "      <th>5</th>\n",
       "      <th>6</th>\n",
       "      <th>7</th>\n",
       "      <th>8</th>\n",
       "      <th>9</th>\n",
       "      <th>...</th>\n",
       "      <th>90</th>\n",
       "      <th>91</th>\n",
       "      <th>92</th>\n",
       "      <th>93</th>\n",
       "      <th>94</th>\n",
       "      <th>95</th>\n",
       "      <th>96</th>\n",
       "      <th>97</th>\n",
       "      <th>98</th>\n",
       "      <th>99</th>\n",
       "    </tr>\n",
       "  </thead>\n",
       "  <tbody>\n",
       "    <tr>\n",
       "      <th>0</th>\n",
       "      <td>1.000000</td>\n",
       "      <td>1.000000</td>\n",
       "      <td>1.000000</td>\n",
       "      <td>1.000000</td>\n",
       "      <td>1.000000</td>\n",
       "      <td>1.000000</td>\n",
       "      <td>1.000000</td>\n",
       "      <td>1.000000</td>\n",
       "      <td>1.000000</td>\n",
       "      <td>1.000000</td>\n",
       "      <td>...</td>\n",
       "      <td>1.000000</td>\n",
       "      <td>1.000000</td>\n",
       "      <td>1.000000</td>\n",
       "      <td>1.000000</td>\n",
       "      <td>1.000000</td>\n",
       "      <td>1.000000</td>\n",
       "      <td>1.000000</td>\n",
       "      <td>1.000000</td>\n",
       "      <td>1.000000</td>\n",
       "      <td>1.000000</td>\n",
       "    </tr>\n",
       "    <tr>\n",
       "      <th>1</th>\n",
       "      <td>0.988586</td>\n",
       "      <td>1.025593</td>\n",
       "      <td>1.005713</td>\n",
       "      <td>0.988579</td>\n",
       "      <td>0.984363</td>\n",
       "      <td>0.986229</td>\n",
       "      <td>1.029132</td>\n",
       "      <td>1.000649</td>\n",
       "      <td>0.963091</td>\n",
       "      <td>1.009272</td>\n",
       "      <td>...</td>\n",
       "      <td>0.993865</td>\n",
       "      <td>0.971746</td>\n",
       "      <td>1.026831</td>\n",
       "      <td>0.992069</td>\n",
       "      <td>1.027957</td>\n",
       "      <td>0.986462</td>\n",
       "      <td>1.008079</td>\n",
       "      <td>0.990229</td>\n",
       "      <td>1.040221</td>\n",
       "      <td>0.989354</td>\n",
       "    </tr>\n",
       "    <tr>\n",
       "      <th>2</th>\n",
       "      <td>1.001907</td>\n",
       "      <td>1.053787</td>\n",
       "      <td>1.016956</td>\n",
       "      <td>0.988074</td>\n",
       "      <td>0.967125</td>\n",
       "      <td>0.990417</td>\n",
       "      <td>1.017281</td>\n",
       "      <td>1.017324</td>\n",
       "      <td>0.966086</td>\n",
       "      <td>0.997461</td>\n",
       "      <td>...</td>\n",
       "      <td>1.012409</td>\n",
       "      <td>0.978195</td>\n",
       "      <td>1.009061</td>\n",
       "      <td>0.990829</td>\n",
       "      <td>1.007541</td>\n",
       "      <td>0.985315</td>\n",
       "      <td>1.016053</td>\n",
       "      <td>1.008375</td>\n",
       "      <td>1.047783</td>\n",
       "      <td>1.011242</td>\n",
       "    </tr>\n",
       "    <tr>\n",
       "      <th>3</th>\n",
       "      <td>0.994653</td>\n",
       "      <td>1.040403</td>\n",
       "      <td>1.039489</td>\n",
       "      <td>1.001430</td>\n",
       "      <td>0.977105</td>\n",
       "      <td>0.985282</td>\n",
       "      <td>1.017913</td>\n",
       "      <td>1.006865</td>\n",
       "      <td>0.967187</td>\n",
       "      <td>1.016520</td>\n",
       "      <td>...</td>\n",
       "      <td>1.012534</td>\n",
       "      <td>0.959393</td>\n",
       "      <td>1.006778</td>\n",
       "      <td>1.018502</td>\n",
       "      <td>0.983338</td>\n",
       "      <td>0.987112</td>\n",
       "      <td>1.023060</td>\n",
       "      <td>1.018354</td>\n",
       "      <td>1.022759</td>\n",
       "      <td>1.029119</td>\n",
       "    </tr>\n",
       "    <tr>\n",
       "      <th>4</th>\n",
       "      <td>0.966408</td>\n",
       "      <td>1.051700</td>\n",
       "      <td>1.036872</td>\n",
       "      <td>1.002262</td>\n",
       "      <td>0.977345</td>\n",
       "      <td>0.966942</td>\n",
       "      <td>1.006544</td>\n",
       "      <td>0.989477</td>\n",
       "      <td>0.939567</td>\n",
       "      <td>1.018942</td>\n",
       "      <td>...</td>\n",
       "      <td>1.009365</td>\n",
       "      <td>0.960168</td>\n",
       "      <td>1.015646</td>\n",
       "      <td>1.022371</td>\n",
       "      <td>1.006452</td>\n",
       "      <td>0.983925</td>\n",
       "      <td>1.017109</td>\n",
       "      <td>1.032588</td>\n",
       "      <td>1.028564</td>\n",
       "      <td>1.026282</td>\n",
       "    </tr>\n",
       "    <tr>\n",
       "      <th>...</th>\n",
       "      <td>...</td>\n",
       "      <td>...</td>\n",
       "      <td>...</td>\n",
       "      <td>...</td>\n",
       "      <td>...</td>\n",
       "      <td>...</td>\n",
       "      <td>...</td>\n",
       "      <td>...</td>\n",
       "      <td>...</td>\n",
       "      <td>...</td>\n",
       "      <td>...</td>\n",
       "      <td>...</td>\n",
       "      <td>...</td>\n",
       "      <td>...</td>\n",
       "      <td>...</td>\n",
       "      <td>...</td>\n",
       "      <td>...</td>\n",
       "      <td>...</td>\n",
       "      <td>...</td>\n",
       "      <td>...</td>\n",
       "      <td>...</td>\n",
       "    </tr>\n",
       "    <tr>\n",
       "      <th>7556</th>\n",
       "      <td>20.385397</td>\n",
       "      <td>71.517517</td>\n",
       "      <td>64.712346</td>\n",
       "      <td>2.555945</td>\n",
       "      <td>2.138637</td>\n",
       "      <td>5.340766</td>\n",
       "      <td>8.606165</td>\n",
       "      <td>34.779426</td>\n",
       "      <td>17.109713</td>\n",
       "      <td>8.828142</td>\n",
       "      <td>...</td>\n",
       "      <td>23.711908</td>\n",
       "      <td>17.597638</td>\n",
       "      <td>25.507469</td>\n",
       "      <td>65.718037</td>\n",
       "      <td>208.182368</td>\n",
       "      <td>180.506360</td>\n",
       "      <td>9.242302</td>\n",
       "      <td>257.063483</td>\n",
       "      <td>13.417222</td>\n",
       "      <td>110.549784</td>\n",
       "    </tr>\n",
       "    <tr>\n",
       "      <th>7557</th>\n",
       "      <td>20.251446</td>\n",
       "      <td>71.490903</td>\n",
       "      <td>63.923522</td>\n",
       "      <td>2.548834</td>\n",
       "      <td>2.113650</td>\n",
       "      <td>5.190528</td>\n",
       "      <td>8.808186</td>\n",
       "      <td>35.688328</td>\n",
       "      <td>17.344668</td>\n",
       "      <td>8.985635</td>\n",
       "      <td>...</td>\n",
       "      <td>24.499975</td>\n",
       "      <td>17.688327</td>\n",
       "      <td>24.732136</td>\n",
       "      <td>66.489543</td>\n",
       "      <td>204.360299</td>\n",
       "      <td>180.840855</td>\n",
       "      <td>9.320429</td>\n",
       "      <td>256.070890</td>\n",
       "      <td>13.428187</td>\n",
       "      <td>107.678661</td>\n",
       "    </tr>\n",
       "    <tr>\n",
       "      <th>7558</th>\n",
       "      <td>20.477331</td>\n",
       "      <td>73.048649</td>\n",
       "      <td>65.452817</td>\n",
       "      <td>2.602134</td>\n",
       "      <td>2.070810</td>\n",
       "      <td>5.174336</td>\n",
       "      <td>8.938448</td>\n",
       "      <td>37.609546</td>\n",
       "      <td>17.834920</td>\n",
       "      <td>8.756051</td>\n",
       "      <td>...</td>\n",
       "      <td>24.096534</td>\n",
       "      <td>17.575592</td>\n",
       "      <td>24.688578</td>\n",
       "      <td>68.899647</td>\n",
       "      <td>200.160352</td>\n",
       "      <td>179.611264</td>\n",
       "      <td>9.516567</td>\n",
       "      <td>257.601618</td>\n",
       "      <td>13.375387</td>\n",
       "      <td>105.502869</td>\n",
       "    </tr>\n",
       "    <tr>\n",
       "      <th>7559</th>\n",
       "      <td>20.777100</td>\n",
       "      <td>71.770754</td>\n",
       "      <td>63.303637</td>\n",
       "      <td>2.656325</td>\n",
       "      <td>2.079955</td>\n",
       "      <td>5.191751</td>\n",
       "      <td>8.748688</td>\n",
       "      <td>37.395802</td>\n",
       "      <td>17.813867</td>\n",
       "      <td>8.936588</td>\n",
       "      <td>...</td>\n",
       "      <td>24.236110</td>\n",
       "      <td>18.040311</td>\n",
       "      <td>24.520214</td>\n",
       "      <td>68.520402</td>\n",
       "      <td>191.333602</td>\n",
       "      <td>181.291706</td>\n",
       "      <td>9.449818</td>\n",
       "      <td>248.130114</td>\n",
       "      <td>13.728330</td>\n",
       "      <td>104.165850</td>\n",
       "    </tr>\n",
       "    <tr>\n",
       "      <th>7560</th>\n",
       "      <td>20.483626</td>\n",
       "      <td>73.701101</td>\n",
       "      <td>63.888287</td>\n",
       "      <td>2.584728</td>\n",
       "      <td>2.110607</td>\n",
       "      <td>5.122163</td>\n",
       "      <td>8.776860</td>\n",
       "      <td>37.120945</td>\n",
       "      <td>18.196235</td>\n",
       "      <td>8.667912</td>\n",
       "      <td>...</td>\n",
       "      <td>23.917183</td>\n",
       "      <td>18.306294</td>\n",
       "      <td>24.748294</td>\n",
       "      <td>68.063001</td>\n",
       "      <td>191.141740</td>\n",
       "      <td>181.533828</td>\n",
       "      <td>9.408426</td>\n",
       "      <td>250.215305</td>\n",
       "      <td>13.698523</td>\n",
       "      <td>102.574118</td>\n",
       "    </tr>\n",
       "  </tbody>\n",
       "</table>\n",
       "<p>7561 rows × 100 columns</p>\n",
       "</div>"
      ],
      "text/plain": [
       "             0          1          2         3         4         5         6   \\\n",
       "0      1.000000   1.000000   1.000000  1.000000  1.000000  1.000000  1.000000   \n",
       "1      0.988586   1.025593   1.005713  0.988579  0.984363  0.986229  1.029132   \n",
       "2      1.001907   1.053787   1.016956  0.988074  0.967125  0.990417  1.017281   \n",
       "3      0.994653   1.040403   1.039489  1.001430  0.977105  0.985282  1.017913   \n",
       "4      0.966408   1.051700   1.036872  1.002262  0.977345  0.966942  1.006544   \n",
       "...         ...        ...        ...       ...       ...       ...       ...   \n",
       "7556  20.385397  71.517517  64.712346  2.555945  2.138637  5.340766  8.606165   \n",
       "7557  20.251446  71.490903  63.923522  2.548834  2.113650  5.190528  8.808186   \n",
       "7558  20.477331  73.048649  65.452817  2.602134  2.070810  5.174336  8.938448   \n",
       "7559  20.777100  71.770754  63.303637  2.656325  2.079955  5.191751  8.748688   \n",
       "7560  20.483626  73.701101  63.888287  2.584728  2.110607  5.122163  8.776860   \n",
       "\n",
       "             7          8         9   ...         90         91         92  \\\n",
       "0      1.000000   1.000000  1.000000  ...   1.000000   1.000000   1.000000   \n",
       "1      1.000649   0.963091  1.009272  ...   0.993865   0.971746   1.026831   \n",
       "2      1.017324   0.966086  0.997461  ...   1.012409   0.978195   1.009061   \n",
       "3      1.006865   0.967187  1.016520  ...   1.012534   0.959393   1.006778   \n",
       "4      0.989477   0.939567  1.018942  ...   1.009365   0.960168   1.015646   \n",
       "...         ...        ...       ...  ...        ...        ...        ...   \n",
       "7556  34.779426  17.109713  8.828142  ...  23.711908  17.597638  25.507469   \n",
       "7557  35.688328  17.344668  8.985635  ...  24.499975  17.688327  24.732136   \n",
       "7558  37.609546  17.834920  8.756051  ...  24.096534  17.575592  24.688578   \n",
       "7559  37.395802  17.813867  8.936588  ...  24.236110  18.040311  24.520214   \n",
       "7560  37.120945  18.196235  8.667912  ...  23.917183  18.306294  24.748294   \n",
       "\n",
       "             93          94          95        96          97         98  \\\n",
       "0      1.000000    1.000000    1.000000  1.000000    1.000000   1.000000   \n",
       "1      0.992069    1.027957    0.986462  1.008079    0.990229   1.040221   \n",
       "2      0.990829    1.007541    0.985315  1.016053    1.008375   1.047783   \n",
       "3      1.018502    0.983338    0.987112  1.023060    1.018354   1.022759   \n",
       "4      1.022371    1.006452    0.983925  1.017109    1.032588   1.028564   \n",
       "...         ...         ...         ...       ...         ...        ...   \n",
       "7556  65.718037  208.182368  180.506360  9.242302  257.063483  13.417222   \n",
       "7557  66.489543  204.360299  180.840855  9.320429  256.070890  13.428187   \n",
       "7558  68.899647  200.160352  179.611264  9.516567  257.601618  13.375387   \n",
       "7559  68.520402  191.333602  181.291706  9.449818  248.130114  13.728330   \n",
       "7560  68.063001  191.141740  181.533828  9.408426  250.215305  13.698523   \n",
       "\n",
       "              99  \n",
       "0       1.000000  \n",
       "1       0.989354  \n",
       "2       1.011242  \n",
       "3       1.029119  \n",
       "4       1.026282  \n",
       "...          ...  \n",
       "7556  110.549784  \n",
       "7557  107.678661  \n",
       "7558  105.502869  \n",
       "7559  104.165850  \n",
       "7560  102.574118  \n",
       "\n",
       "[7561 rows x 100 columns]"
      ]
     },
     "execution_count": 41,
     "metadata": {},
     "output_type": "execute_result"
    }
   ],
   "source": [
    "#Run the forecast for 30 years\n",
    "MC_thirty_year.calc_cumulative_return()"
   ]
  },
  {
   "cell_type": "code",
   "execution_count": 42,
   "metadata": {},
   "outputs": [
    {
     "data": {
      "image/png": "[encoded data removed]",
      "text/plain": [
       "<Figure size 432x288 with 1 Axes>"
      ]
     },
     "metadata": {
      "needs_background": "light"
     },
     "output_type": "display_data"
    }
   ],
   "source": [
    "#plot a line plot\n",
    "line_plot = MC_thirty_year.plot_simulation()"
   ]
  },
  {
   "cell_type": "code",
   "execution_count": 43,
   "metadata": {},
   "outputs": [
    {
     "data": {
      "image/png": "[encoded data removed]",
      "text/plain": [
       "<Figure size 432x288 with 1 Axes>"
      ]
     },
     "metadata": {
      "needs_background": "light"
     },
     "output_type": "display_data"
    }
   ],
   "source": [
    "#plot return distrbution and CI\n",
    "dist_plot = MC_thirty_year.plot_distribution()"
   ]
  },
  {
   "cell_type": "code",
   "execution_count": 44,
   "metadata": {},
   "outputs": [
    {
     "name": "stdout",
     "output_type": "stream",
     "text": [
      "count            100.000000\n",
      "mean              88.132021\n",
      "std              185.905225\n",
      "min                0.239553\n",
      "25%               12.580198\n",
      "50%               25.381454\n",
      "75%               69.202631\n",
      "max             1309.927904\n",
      "95% CI Lower       2.335815\n",
      "95% CI Upper     536.011282\n",
      "Name: 7560, dtype: float64\n"
     ]
    }
   ],
   "source": [
    "#summary statistics\n",
    "tbl = MC_thirty_year.summarize_cumulative_return()\n",
    "print(tbl)"
   ]
  },
  {
   "cell_type": "code",
   "execution_count": 45,
   "metadata": {},
   "outputs": [
    {
     "name": "stdout",
     "output_type": "stream",
     "text": [
      "There is a 95% chance that your initial investment of 10000 will grow to $23358.15 to $5360112.82 over the next 30 years.\n"
     ]
    }
   ],
   "source": [
    "# final analysis\n",
    "int_investment = 10000\n",
    "\n",
    "#upper and lower CI\n",
    "CI_Lower = round(tbl[-2] * int_investment,2)\n",
    "CI_Upper = round(tbl[-1] * int_investment,2)\n",
    "\n",
    "#Print output\n",
    "print(f\"There is a 95% chance that your initial investment of {int_investment} will grow to ${CI_Lower} to ${CI_Upper} over the next 30 years.\")"
   ]
  },
  {
   "cell_type": "code",
   "execution_count": null,
   "metadata": {},
   "outputs": [],
   "source": []
  },
  {
   "cell_type": "code",
   "execution_count": null,
   "metadata": {},
   "outputs": [],
   "source": []
  }
 ],
 "metadata": {
  "kernelspec": {
   "display_name": "Python 3",
   "language": "python",
   "name": "python3"
  },
  "language_info": {
   "codemirror_mode": {
    "name": "ipython",
    "version": 3
   },
   "file_extension": ".py",
   "mimetype": "text/x-python",
   "name": "python",
   "nbconvert_exporter": "python",
   "pygments_lexer": "ipython3",
   "version": "3.7.7"
  }
 },
 "nbformat": 4,
 "nbformat_minor": 4
}
