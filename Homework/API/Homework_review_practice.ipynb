{
 "cells": [
  {
   "cell_type": "code",
   "execution_count": 11,
   "metadata": {},
   "outputs": [],
   "source": [
    "import os\n",
    "import requests\n",
    "import pandas as pd\n",
    "from dotenv import load_dotenv\n",
    "import alpaca_trade_api as tradeapi\n",
    "from MCForecastTools import MCSimulation\n",
    "%matplotlib inline"
   ]
  },
  {
   "cell_type": "code",
   "execution_count": 12,
   "metadata": {},
   "outputs": [
    {
     "data": {
      "text/plain": [
       "True"
      ]
     },
     "execution_count": 12,
     "metadata": {},
     "output_type": "execute_result"
    }
   ],
   "source": [
    "load_dotenv()"
   ]
  },
  {
   "cell_type": "markdown",
   "metadata": {},
   "source": [
    "## Create a Pie chart for out liquid assets"
   ]
  },
  {
   "cell_type": "code",
   "execution_count": 13,
   "metadata": {},
   "outputs": [],
   "source": [
    "#assumption: we have our crypto coins: litecoin and tezos\n",
    "my_lc = 100\n",
    "my_tz = 500"
   ]
  },
  {
   "cell_type": "code",
   "execution_count": 14,
   "metadata": {},
   "outputs": [],
   "source": [
    "#crypto API's\n",
    "\n",
    "lc_url = \"https://api.alternative.me/v2/ticker/Litecoin/?convert=USD\"\n",
    "tz_url = \"https://api.alternative.me/v2/ticker/Tezos/?convert=USD\""
   ]
  },
  {
   "cell_type": "code",
   "execution_count": 15,
   "metadata": {},
   "outputs": [
    {
     "name": "stdout",
     "output_type": "stream",
     "text": [
      "My litecoin balance is 8506.0\n",
      "My tezo balance is 1150.0\n"
     ]
    }
   ],
   "source": [
    "#get prices\n",
    "lc_response = requests.get(lc_url).json()\n",
    "lc_price = lc_response['data']['2']['quotes']['USD']['price']\n",
    "\n",
    "tz_response = requests.get(tz_url).json()\n",
    "tz_price = tz_response['data']['2011']['quotes']['USD']['price']\n",
    "\n",
    "#get current value of \"my crpytos\"\n",
    "my_lc_value= my_lc * lc_price\n",
    "my_tz_value= my_tz * tz_price\n",
    "\n",
    "#print output on crypto wallet\n",
    "print(f\"My litecoin balance is {my_lc_value}\")\n",
    "print(f\"My tezo balance is {my_tz_value}\")"
   ]
  },
  {
   "cell_type": "code",
   "execution_count": 16,
   "metadata": {},
   "outputs": [],
   "source": [
    "#assumtpion: our stocksm AMAT, and ORCL\n",
    "\n",
    "my_ORCL = 100\n",
    "my_AMAT = 100\n",
    "\n"
   ]
  },
  {
   "cell_type": "code",
   "execution_count": 17,
   "metadata": {},
   "outputs": [],
   "source": [
    "# Set Alpaca API key and secret\n",
    "\n",
    "alpaca_api_key = os.getenv(\"ALPACA_API_KEY\")\n",
    "alpaca_secret_key = os.getenv(\"ALPACA_SECRET_KEY\")\n",
    "\n",
    "alpaca_api_key = str(alpaca_api_key)\n",
    "alpaca_secret_key = str(alpaca_secret_key)\n",
    "\n",
    "alpaca = tradeapi.REST(\n",
    "    alpaca_api_key,\n",
    "    alpaca_secret_key,\n",
    "    api_version = \"v2\"\n",
    ")"
   ]
  },
  {
   "cell_type": "code",
   "execution_count": 18,
   "metadata": {},
   "outputs": [
    {
     "data": {
      "text/plain": [
       "'PKC15QNA0N6V3XUMQKFD'"
      ]
     },
     "execution_count": 18,
     "metadata": {},
     "output_type": "execute_result"
    }
   ],
   "source": [
    "alpaca_api_key"
   ]
  },
  {
   "cell_type": "code",
   "execution_count": 21,
   "metadata": {},
   "outputs": [
    {
     "data": {
      "text/html": [
       "<div>\n",
       "<style scoped>\n",
       "    .dataframe tbody tr th:only-of-type {\n",
       "        vertical-align: middle;\n",
       "    }\n",
       "\n",
       "    .dataframe tbody tr th {\n",
       "        vertical-align: top;\n",
       "    }\n",
       "\n",
       "    .dataframe thead tr th {\n",
       "        text-align: left;\n",
       "    }\n",
       "</style>\n",
       "<table border=\"1\" class=\"dataframe\">\n",
       "  <thead>\n",
       "    <tr>\n",
       "      <th></th>\n",
       "      <th colspan=\"5\" halign=\"left\">AMAT</th>\n",
       "      <th colspan=\"5\" halign=\"left\">ORCL</th>\n",
       "    </tr>\n",
       "    <tr>\n",
       "      <th></th>\n",
       "      <th>open</th>\n",
       "      <th>high</th>\n",
       "      <th>low</th>\n",
       "      <th>close</th>\n",
       "      <th>volume</th>\n",
       "      <th>open</th>\n",
       "      <th>high</th>\n",
       "      <th>low</th>\n",
       "      <th>close</th>\n",
       "      <th>volume</th>\n",
       "    </tr>\n",
       "  </thead>\n",
       "  <tbody>\n",
       "    <tr>\n",
       "      <th>2020-11-20 00:00:00-05:00</th>\n",
       "      <td>77.2</td>\n",
       "      <td>78.57</td>\n",
       "      <td>76.68</td>\n",
       "      <td>76.72</td>\n",
       "      <td>6733058</td>\n",
       "      <td>56.36</td>\n",
       "      <td>56.44</td>\n",
       "      <td>55.68</td>\n",
       "      <td>55.7</td>\n",
       "      <td>13763956</td>\n",
       "    </tr>\n",
       "  </tbody>\n",
       "</table>\n",
       "</div>"
      ],
      "text/plain": [
       "                           AMAT                                 ORCL         \\\n",
       "                           open   high    low  close   volume   open   high   \n",
       "2020-11-20 00:00:00-05:00  77.2  78.57  76.68  76.72  6733058  56.36  56.44   \n",
       "\n",
       "                                                  \n",
       "                             low close    volume  \n",
       "2020-11-20 00:00:00-05:00  55.68  55.7  13763956  "
      ]
     },
     "execution_count": 21,
     "metadata": {},
     "output_type": "execute_result"
    }
   ],
   "source": [
    "from datetime import datetime\n",
    "startdate = datetime.fromisoformat('2020-11-20')\n",
    "\n",
    "#iso format\n",
    "today = pd.Timestamp(startdate, tz= \"America/New_York\").isoformat()\n",
    "\n",
    "tickers = ['ORCL', 'AMAT']\n",
    "\n",
    "timeframe = '1D'\n",
    "\n",
    "#get closing prices\n",
    "df_investments = alpaca.get_barset(tickers,timeframe, start = today).df\n",
    "\n",
    "#take a peek\n",
    "df_investments.head()"
   ]
  },
  {
   "cell_type": "code",
   "execution_count": 22,
   "metadata": {},
   "outputs": [],
   "source": [
    "ORCL_close_price = round(df_investments[tickers[0]]['close'][0], 2)\n",
    "AMAT_close_price = round(df_investments[tickers[0]]['close'][0], 2)"
   ]
  },
  {
   "cell_type": "code",
   "execution_count": 25,
   "metadata": {},
   "outputs": [],
   "source": [
    "my_ORCL_Value = my_ORCL *ORCL_close_price\n",
    "my_AMAT_Value = my_AMAT *AMAT_close_price"
   ]
  },
  {
   "cell_type": "markdown",
   "metadata": {},
   "source": [
    "## pie chart for saving analysis"
   ]
  },
  {
   "cell_type": "code",
   "execution_count": 32,
   "metadata": {},
   "outputs": [],
   "source": [
    "monthly_income = 60000\n",
    "\n",
    "#put assets into a list\n",
    "\n",
    "savings_data = [\n",
    "    my_lc_value+my_tz_value,\n",
    "    my_ORCL_Value+my_AMAT_Value\n",
    "    \n",
    "]\n",
    "\n",
    "# create savings DF\n",
    "df_savings = pd.DataFrame(savings_data, columns=['amount'], index = ['crypto', 'shares'])"
   ]
  },
  {
   "cell_type": "code",
   "execution_count": 33,
   "metadata": {},
   "outputs": [
    {
     "data": {
      "text/plain": [
       "<matplotlib.axes._subplots.AxesSubplot at 0x7fc331951f50>"
      ]
     },
     "execution_count": 33,
     "metadata": {},
     "output_type": "execute_result"
    },
    {
     "data": {
      "image/png": "[encoded data removed]",
      "text/plain": [
       "<Figure size 432x288 with 1 Axes>"
      ]
     },
     "metadata": {},
     "output_type": "display_data"
    }
   ],
   "source": [
    "df_savings.plot.pie(y='amount', title = 'Personal Savings')"
   ]
  },
  {
   "cell_type": "code",
   "execution_count": 34,
   "metadata": {},
   "outputs": [
    {
     "name": "stdout",
     "output_type": "stream",
     "text": [
      "You need159204.0to save more!\n"
     ]
    }
   ],
   "source": [
    "#emergency fund\n",
    "\n",
    "emergency_fund = monthly_income * 3\n",
    "\n",
    "#calc_savings\n",
    "total_savings = float(df_savings.sum())\n",
    "\n",
    "#check if we have enough savings\n",
    "\n",
    "if total_savings > emergency_fund:\n",
    "    print(\"You're Responsible\")\n",
    "elif total_savings ==emergency_fund:\n",
    "    print(\"You have exactly 3 months saved up\")\n",
    "else:\n",
    "    print(\"You need\" +str(emergency_fund-total_savings)+\"to save more!\")"
   ]
  },
  {
   "cell_type": "markdown",
   "metadata": {},
   "source": [
    "## Simulations"
   ]
  },
  {
   "cell_type": "code",
   "execution_count": 36,
   "metadata": {},
   "outputs": [],
   "source": [
    "#set start and end date for API Data\n",
    "\n",
    "start_date = pd.Timestamp('2017-11-17', tz= \"America/New_York\").isoformat()\n"
   ]
  },
  {
   "cell_type": "code",
   "execution_count": 38,
   "metadata": {},
   "outputs": [
    {
     "ename": "NameError",
     "evalue": "name 'df_stock_data' is not defined",
     "output_type": "error",
     "traceback": [
      "\u001b[0;31m---------------------------------------------------------------------------\u001b[0m",
      "\u001b[0;31mNameError\u001b[0m                                 Traceback (most recent call last)",
      "\u001b[0;32m<ipython-input-38-e346fa0afb8c>\u001b[0m in \u001b[0;36m<module>\u001b[0;34m\u001b[0m\n\u001b[1;32m      4\u001b[0m \u001b[0;31m#apply MC SIM for 30 years\u001b[0m\u001b[0;34m\u001b[0m\u001b[0;34m\u001b[0m\u001b[0;34m\u001b[0m\u001b[0m\n\u001b[1;32m      5\u001b[0m \u001b[0;34m\u001b[0m\u001b[0m\n\u001b[0;32m----> 6\u001b[0;31m \u001b[0mMC_thirty_year\u001b[0m \u001b[0;34m=\u001b[0m \u001b[0mMCSimulation\u001b[0m\u001b[0;34m(\u001b[0m\u001b[0mportoflio_data\u001b[0m \u001b[0;34m=\u001b[0m \u001b[0mdf_stock_data\u001b[0m\u001b[0;34m,\u001b[0m \u001b[0mweights\u001b[0m \u001b[0;34m=\u001b[0m \u001b[0;34m[\u001b[0m\u001b[0;36m.5\u001b[0m\u001b[0;34m,\u001b[0m \u001b[0;36m.5\u001b[0m\u001b[0;34m]\u001b[0m\u001b[0;34m,\u001b[0m \u001b[0mnum_simulation\u001b[0m \u001b[0;34m=\u001b[0m \u001b[0;36m100\u001b[0m\u001b[0;34m,\u001b[0m \u001b[0mnum_trading_days\u001b[0m \u001b[0;34m=\u001b[0m \u001b[0;36m252\u001b[0m\u001b[0;34m*\u001b[0m\u001b[0;36m2\u001b[0m\u001b[0;34m)\u001b[0m\u001b[0;34m\u001b[0m\u001b[0;34m\u001b[0m\u001b[0m\n\u001b[0m",
      "\u001b[0;31mNameError\u001b[0m: name 'df_stock_data' is not defined"
     ]
    }
   ],
   "source": [
    "# get clsing prices with alpaca.get_barset\n",
    "\n",
    "\n",
    "#apply MC SIM for 30 years\n",
    "\n",
    "MC_thirty_year = MCSimulation(portoflio_data = df_stock_data, weights = [.5, .5], num_simulation = 100, num_trading_days = 252*2)"
   ]
  },
  {
   "cell_type": "code",
   "execution_count": null,
   "metadata": {},
   "outputs": [],
   "source": [
    "#run the forcat for 30 years\n",
    "MC_thirty_year.calc_cumulative_return()\n",
    "\n",
    "#lineplot\n",
    "\n",
    "line_plot = MC_thirty_year.plot_simulation()\n",
    "\n",
    "#plot return distribution and CI\n",
    "\n",
    "dist_plot = MC_thirty_year.plot_distribution()\n",
    "\n",
    "#summary stats\n",
    "\n",
    "tbl = MC_thirty_year.summarize_cumulative_return()\n",
    "print(tbl)\n",
    "\n",
    "#final analysis\n",
    "\n",
    "int_investment = 10000\n",
    "#upper and lower confidence intervals\n",
    "\n",
    "CI_lower = round(tbl[-2] * int_investment,2)\n",
    "CI_upper = round(tbl[-1] * int_investment,2)\n",
    "\n",
    "print(CI_lower)\n",
    "print(CI_upper)\n",
    "\n",
    "print(f\"there is a 95% chaneg that your initial investment of {int_investment} will grow  to )"
   ]
  }
 ],
 "metadata": {
  "kernelspec": {
   "display_name": "Python 3",
   "language": "python",
   "name": "python3"
  },
  "language_info": {
   "codemirror_mode": {
    "name": "ipython",
    "version": 3
   },
   "file_extension": ".py",
   "mimetype": "text/x-python",
   "name": "python",
   "nbconvert_exporter": "python",
   "pygments_lexer": "ipython3",
   "version": "3.7.7"
  }
 },
 "nbformat": 4,
 "nbformat_minor": 4
}
